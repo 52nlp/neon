{
 "metadata": {
  "name": "",
  "signature": "sha256:358a991522a5b2d37823739914fdc8dd69b637abfa2c60bdc9d670c742635e81"
 },
 "nbformat": 3,
 "nbformat_minor": 0,
 "worksheets": [
  {
   "cells": [
    {
     "cell_type": "heading",
     "level": 1,
     "metadata": {},
     "source": [
      "Training Recurrent Neural Networks on Financial Time Series"
     ]
    },
    {
     "cell_type": "heading",
     "level": 3,
     "metadata": {},
     "source": [
      "Initialize Logger"
     ]
    },
    {
     "cell_type": "code",
     "collapsed": false,
     "input": [
      "import logging\n",
      "logging.basicConfig(level=20)\n",
      "logger = logging.getLogger()"
     ],
     "language": "python",
     "metadata": {},
     "outputs": [],
     "prompt_number": 1
    },
    {
     "cell_type": "heading",
     "level": 3,
     "metadata": {},
     "source": [
      "Hyper-Parameters"
     ]
    },
    {
     "cell_type": "code",
     "collapsed": false,
     "input": [
      "unrolls = 50       # number of time steps used when making a prediction\n",
      "\n",
      "batch_size = 1     # number of examples used when updating parameters\n",
      "\n",
      "num_epochs = 10    # number of times through dataset\n",
      "\n",
      "reset_period = 100 # number of time steps after which gradient is reset\n",
      "\n",
      "hidden_units = 128 # size of the hidden layer of the network\n",
      "\n",
      "features = 13      # End of day open, high, low, close and volume, \n",
      "                   # dividends and splits, and split/dividend \n",
      "                   # adjusted open, high, low close and volume\n",
      "                   # 10 day momentum (based of unadjusted open)\n",
      "                   # NOTE: these are normalized from 0 to 1"
     ],
     "language": "python",
     "metadata": {},
     "outputs": [],
     "prompt_number": 2
    },
    {
     "cell_type": "heading",
     "level": 3,
     "metadata": {},
     "source": [
      "Initialize Backend"
     ]
    },
    {
     "cell_type": "code",
     "collapsed": false,
     "input": [
      "from neon.backends import gen_backend\n",
      "backend = gen_backend(rng_seed=0) # defaults to CPU"
     ],
     "language": "python",
     "metadata": {},
     "outputs": [],
     "prompt_number": 3
    },
    {
     "cell_type": "heading",
     "level": 3,
     "metadata": {},
     "source": [
      "Load Dataset"
     ]
    },
    {
     "cell_type": "code",
     "collapsed": false,
     "input": [
      "from neon.datasets import StockPrice\n",
      "dataset = StockPrice(repo_path='~/data',\n",
      "                   data_dim=features,\n",
      "                   batch_size=batch_size,\n",
      "                   unrolls=unrolls,\n",
      "                   backend=backend)"
     ],
     "language": "python",
     "metadata": {},
     "outputs": [],
     "prompt_number": 4
    },
    {
     "cell_type": "heading",
     "level": 3,
     "metadata": {},
     "source": [
      "Initialize Weights"
     ]
    },
    {
     "cell_type": "code",
     "collapsed": false,
     "input": [
      "from neon.params import *\n",
      "weight_init = NormalValGen(loc=0.0, scale=0.1, bias_init=1.0)\n",
      "b_init = NormalValGen(loc=0.0, scale=0.1, bias_init=1.0)\n",
      "lrule_init = {'type': 'gradient_descent',\n",
      "              'lr_params': {'learning_rate': 0.001}}"
     ],
     "language": "python",
     "metadata": {},
     "outputs": [],
     "prompt_number": 5
    },
    {
     "cell_type": "heading",
     "level": 3,
     "metadata": {},
     "source": [
      "Initialize Layers"
     ]
    },
    {
     "cell_type": "code",
     "collapsed": false,
     "input": [
      "from neon.layers import *\n",
      "from neon.transforms import *\n",
      "layers = [\n",
      "    DataLayer(nout=features,\n",
      "              dataset=dataset),\n",
      "    RecurrentHiddenLayer(nout=hidden_units,\n",
      "                         activation=Tanh(),\n",
      "                         unrolls=unrolls,\n",
      "                         weight_init=weight_init,\n",
      "                         weight_init_rec=weight_init,\n",
      "                         lrule_init=lrule_init),\n",
      "    RecurrentOutputLayer(nout=features,\n",
      "                         activation=Logistic(),\n",
      "                         unrolls=unrolls,\n",
      "                         weight_init=weight_init,\n",
      "                         brule_init=lrule_init,\n",
      "                         lrule_init=lrule_init),\n",
      "    RecurrentCostLayer(cost=SumSquaredDiffs())\n",
      "]"
     ],
     "language": "python",
     "metadata": {},
     "outputs": [],
     "prompt_number": 6
    },
    {
     "cell_type": "heading",
     "level": 3,
     "metadata": {},
     "source": [
      "Initialize Model"
     ]
    },
    {
     "cell_type": "code",
     "collapsed": false,
     "input": [
      "from neon.models import RNN\n",
      "rnn = RNN(layers=layers,\n",
      "          batch_size=batch_size,\n",
      "          unrolls=unrolls,\n",
      "          backend=backend,\n",
      "          num_epochs=num_epochs,\n",
      "          reset_period=reset_period,\n",
      "          truncate=True,\n",
      "          make_plots=False)"
     ],
     "language": "python",
     "metadata": {},
     "outputs": [],
     "prompt_number": 7
    },
    {
     "cell_type": "heading",
     "level": 3,
     "metadata": {},
     "source": [
      "Train Model"
     ]
    },
    {
     "cell_type": "code",
     "collapsed": false,
     "input": [
      "from neon.experiments import FitPredictErrorExperiment\n",
      "experiement = FitPredictErrorExperiment(model=rnn,\n",
      "                                        dataset=dataset,\n",
      "                                        backend=backend)\n",
      "experiement.run()"
     ],
     "language": "python",
     "metadata": {},
     "outputs": [
      {
       "metadata": {},
       "output_type": "pyout",
       "prompt_number": 8,
       "text": [
        "{'test': {'MisclassPercentage_TOP_1': 46.375},\n",
        " 'train': {'MisclassPercentage_TOP_1': 4.640625}}"
       ]
      }
     ],
     "prompt_number": 8
    },
    {
     "cell_type": "heading",
     "level": 3,
     "metadata": {},
     "source": [
      "Plot Predictions"
     ]
    },
    {
     "cell_type": "code",
     "collapsed": false,
     "input": [
      "# Plot the test predictions against the ground truth\n",
      "import numpy as np\n",
      "predicted = np.loadtxt('test-pred.txt')\n",
      "actual = np.loadtxt('test-true.txt')\n",
      "\n",
      "from matplotlib import pyplot as plt\n",
      "plt.plot(predicted.T[:, 0], label='RNN Next Day Prediction')\n",
      "plt.plot(actual.T[:, 0], label='MSFT Open')\n",
      "plt.title('RNN Test Set')\n",
      "plt.xlabel('Days')\n",
      "plt.ylabel('Price')\n",
      "plt.legend()\n",
      "plt.show()"
     ],
     "language": "python",
     "metadata": {},
     "outputs": [],
     "prompt_number": 11
    }
   ],
   "metadata": {}
  }
 ]
}