{
 "cells": [
  {
   "cell_type": "markdown",
   "metadata": {},
   "source": [
    "# Training Recurrent Neural Networks on Financial Time Series"
   ]
  },
  {
   "cell_type": "markdown",
   "metadata": {},
   "source": [
    "### Initialize Logger"
   ]
  },
  {
   "cell_type": "code",
   "execution_count": 1,
   "metadata": {
    "collapsed": false
   },
   "outputs": [],
   "source": [
    "%matplotlib inline\n",
    "\n",
    "import logging\n",
    "logger = logging.getLogger()\n",
    "logger.setLevel(logging.INFO)"
   ]
  },
  {
   "cell_type": "markdown",
   "metadata": {},
   "source": [
    "### Hyper-Parameters"
   ]
  },
  {
   "cell_type": "code",
   "execution_count": 2,
   "metadata": {
    "collapsed": false
   },
   "outputs": [],
   "source": [
    "unrolls = 50       # number of time steps used when making a prediction\n",
    "\n",
    "batch_size = 1     # number of examples used when updating parameters\n",
    "\n",
    "num_epochs = 10    # number of times through dataset\n",
    "\n",
    "reset_period = 100 # number of time steps after which gradient is reset\n",
    "\n",
    "hidden_units = 128 # size of the hidden layer of the network\n",
    "\n",
    "features = 13      # End of day open, high, low, close and volume, \n",
    "                   # dividends and splits, and split/dividend \n",
    "                   # adjusted open, high, low close and volume\n",
    "                   # 10 day momentum (based of unadjusted open)\n",
    "                   # NOTE: these are normalized from 0 to 1"
   ]
  },
  {
   "cell_type": "markdown",
   "metadata": {},
   "source": [
    "### Initialize Backend"
   ]
  },
  {
   "cell_type": "code",
   "execution_count": 3,
   "metadata": {
    "collapsed": false
   },
   "outputs": [
    {
     "name": "stderr",
     "output_type": "stream",
     "text": [
      "INFO:neon.util.compat:using xrange as range\n",
      "INFO:neon.backends.cpu:Seeding random number generator with: 0\n",
      "INFO:neon.backends:CPU backend, RNG seed: 0, numerr: None\n"
     ]
    }
   ],
   "source": [
    "from neon.backends import gen_backend\n",
    "backend = gen_backend(rng_seed=0) # defaults to CPU"
   ]
  },
  {
   "cell_type": "markdown",
   "metadata": {},
   "source": [
    "### Load Dataset"
   ]
  },
  {
   "cell_type": "code",
   "execution_count": 4,
   "metadata": {
    "collapsed": false
   },
   "outputs": [
    {
     "name": "stderr",
     "output_type": "stream",
     "text": [
      "INFO:neon.datasets.stockprice:Setting dtype to<type 'numpy.float32'>\n"
     ]
    }
   ],
   "source": [
    "from neon.datasets import StockPrice\n",
    "dataset = StockPrice(repo_path='~/data',\n",
    "                   data_dim=features,\n",
    "                   batch_size=batch_size,\n",
    "                   unrolls=unrolls,\n",
    "                   backend=backend)"
   ]
  },
  {
   "cell_type": "markdown",
   "metadata": {},
   "source": [
    "### Initialize Weights"
   ]
  },
  {
   "cell_type": "code",
   "execution_count": 5,
   "metadata": {
    "collapsed": false
   },
   "outputs": [],
   "source": [
    "from neon.params import *\n",
    "weight_init = NormalValGen(loc=0.0, scale=0.1, bias_init=1.0)\n",
    "b_init = NormalValGen(loc=0.0, scale=0.1, bias_init=1.0)\n",
    "lrule_init = {'type': 'gradient_descent',\n",
    "              'lr_params': {'learning_rate': 0.001}}"
   ]
  },
  {
   "cell_type": "markdown",
   "metadata": {},
   "source": [
    "### Initialize Layers"
   ]
  },
  {
   "cell_type": "code",
   "execution_count": 6,
   "metadata": {
    "collapsed": false
   },
   "outputs": [
    {
     "name": "stderr",
     "output_type": "stream",
     "text": [
      "INFO:neon.layers.layer:Setting layer dtype to<type 'numpy.float32'>\n",
      "INFO:neon.layers.layer:Setting layer dtype to<type 'numpy.float32'>\n",
      "INFO:neon.layers.layer:Setting layer dtype to<type 'numpy.float32'>\n",
      "INFO:neon.transforms.cost:Setting dtype to<type 'numpy.float32'>\n",
      "INFO:neon.layers.layer:Setting layer dtype to<type 'numpy.float32'>\n"
     ]
    }
   ],
   "source": [
    "from neon.layers import *\n",
    "from neon.transforms import *\n",
    "layers = [\n",
    "    DataLayer(nout=features,\n",
    "              dataset=dataset),\n",
    "    RecurrentHiddenLayer(nout=hidden_units,\n",
    "                         activation=Tanh(),\n",
    "                         unrolls=unrolls,\n",
    "                         weight_init=weight_init,\n",
    "                         weight_init_rec=weight_init,\n",
    "                         lrule_init=lrule_init),\n",
    "    RecurrentOutputLayer(nout=features,\n",
    "                         activation=Logistic(),\n",
    "                         unrolls=unrolls,\n",
    "                         weight_init=weight_init,\n",
    "                         brule_init=lrule_init,\n",
    "                         lrule_init=lrule_init),\n",
    "    RecurrentCostLayer(cost=SumSquaredDiffs())\n",
    "]"
   ]
  },
  {
   "cell_type": "markdown",
   "metadata": {},
   "source": [
    "### Initialize Model"
   ]
  },
  {
   "cell_type": "code",
   "execution_count": 7,
   "metadata": {
    "collapsed": false
   },
   "outputs": [],
   "source": [
    "from neon.models import RNN\n",
    "rnn = RNN(layers=layers,\n",
    "          batch_size=batch_size,\n",
    "          unrolls=unrolls,\n",
    "          backend=backend,\n",
    "          num_epochs=num_epochs,\n",
    "          reset_period=reset_period,\n",
    "          truncate=True,\n",
    "          make_plots=False)"
   ]
  },
  {
   "cell_type": "markdown",
   "metadata": {},
   "source": [
    "### Train Model"
   ]
  },
  {
   "cell_type": "code",
   "execution_count": 8,
   "metadata": {
    "collapsed": false
   },
   "outputs": [
    {
     "name": "stderr",
     "output_type": "stream",
     "text": [
      "INFO:neon.params.val_init:Generating GaussianValGen values of shape (128, 13)\n",
      "INFO:neon.params.val_init:Generating GaussianValGen values of shape (128, 128)\n",
      "INFO:neon.params.val_init:Generating GaussianValGen values of shape (13, 128)\n",
      "INFO:neon.datasets.stockprice:loading: AAPL.csv\n",
      "/usr/local/lib/python2.7/site-packages/matplotlib/__init__.py:1318: UserWarning:  This call to matplotlib.use() has no effect\n",
      "because the backend has already been chosen;\n",
      "matplotlib.use() must be called *before* pylab, matplotlib.pyplot,\n",
      "or matplotlib.backends is imported for the first time.\n",
      "\n",
      "  warnings.warn(_use_error_msg)\n",
      "INFO:neon.models.mlp:Layers:\n",
      "\tDataLayer layer: 13 nodes\n",
      "\tRecurrentHiddenLayer layer: 13 inputs, 128 nodes, Tanh act_fn\n",
      "\tRecurrentOutputLayer layer: 128 inputs, 13 nodes, Logistic act_fn\n",
      "\tLayer layer: 13 nodes, SumSquaredDiffs cost_fn, utilizing CPU backend\n",
      "\t\n",
      "\n",
      "INFO:neon.models.rnn:commencing model fitting\n",
      "INFO:neon.models.rnn:epoch: 1, total training error: 0.15424\n",
      "INFO:neon.models.rnn:epoch: 2, total training error: 0.08084\n",
      "INFO:neon.models.rnn:epoch: 3, total training error: 0.07808\n",
      "INFO:neon.models.rnn:epoch: 4, total training error: 0.07173\n",
      "INFO:neon.models.rnn:epoch: 5, total training error: 0.05795\n",
      "INFO:neon.models.rnn:epoch: 6, total training error: 0.05087\n",
      "INFO:neon.models.rnn:epoch: 7, total training error: 0.04409\n",
      "INFO:neon.models.rnn:epoch: 8, total training error: 0.03946\n",
      "INFO:neon.models.rnn:epoch: 9, total training error: 0.03620\n",
      "INFO:neon.models.rnn:epoch: 10, total training error: 0.03371\n",
      "INFO:neon.experiments.fit_predict_err:test set MisclassPercentage_TOP_1 46.37500\n",
      "INFO:neon.experiments.fit_predict_err:train set MisclassPercentage_TOP_1 4.64062\n"
     ]
    },
    {
     "data": {
      "text/plain": [
       "{'test': {'MisclassPercentage_TOP_1': 46.375},\n",
       " 'train': {'MisclassPercentage_TOP_1': 4.640625}}"
      ]
     },
     "execution_count": 8,
     "metadata": {},
     "output_type": "execute_result"
    }
   ],
   "source": [
    "from neon.experiments import FitPredictErrorExperiment\n",
    "experiement = FitPredictErrorExperiment(model=rnn,\n",
    "                                        dataset=dataset,\n",
    "                                        backend=backend)\n",
    "experiement.run()"
   ]
  },
  {
   "cell_type": "markdown",
   "metadata": {},
   "source": [
    "### Plot Predictions"
   ]
  },
  {
   "cell_type": "code",
   "execution_count": 10,
   "metadata": {
    "collapsed": false
   },
   "outputs": [
    {
     "data": {
      "image/png": "[encoded data removed]",
      "text/plain": [
       "<matplotlib.figure.Figure at 0x108086d10>"
      ]
     },
     "metadata": {},
     "output_type": "display_data"
    }
   ],
   "source": [
    "import numpy as np\n",
    "predicted = np.loadtxt('test-pred.txt')\n",
    "actual = np.loadtxt('test-true.txt')\n",
    "\n",
    "from matplotlib import pyplot as plt\n",
    "plt.plot(predicted.T[:, 0], label='RNN Next Day Prediction')\n",
    "plt.plot(actual.T[:, 0], label='AAPL Open')\n",
    "plt.title('RNN Test Set')\n",
    "plt.xlabel('Days')\n",
    "plt.ylabel('Price')\n",
    "plt.legend(loc='center left', bbox_to_anchor=(1, 0.5))\n",
    "plt.show()"
   ]
  }
 ],
 "metadata": {
  "kernelspec": {
   "display_name": "Python 2",
   "language": "python",
   "name": "python2"
  },
  "language_info": {
   "codemirror_mode": {
    "name": "ipython",
    "version": 2
   },
   "file_extension": ".py",
   "mimetype": "text/x-python",
   "name": "python",
   "nbconvert_exporter": "python",
   "pygments_lexer": "ipython2",
   "version": "2.7.6"
  }
 },
 "nbformat": 4,
 "nbformat_minor": 0
}
